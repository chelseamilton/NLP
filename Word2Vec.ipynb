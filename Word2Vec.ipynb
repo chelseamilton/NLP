{
 "cells": [
  {
   "cell_type": "markdown",
   "id": "b271b1f8",
   "metadata": {},
   "source": [
    "# Word to Vec"
   ]
  },
  {
   "cell_type": "markdown",
   "id": "b99cd80d",
   "metadata": {},
   "source": [
    " In word2vec model, each word is represented as a vector of 32 or more dimension instead of a single number."
   ]
  },
  {
   "cell_type": "code",
   "execution_count": 1,
   "id": "5dc8cebe",
   "metadata": {},
   "outputs": [],
   "source": [
    "import nltk"
   ]
  },
  {
   "cell_type": "code",
   "execution_count": 2,
   "id": "710681fd",
   "metadata": {},
   "outputs": [],
   "source": [
    "from gensim.models import Word2Vec\n",
    "from nltk.corpus import stopwords"
   ]
  },
  {
   "cell_type": "code",
   "execution_count": 3,
   "id": "3d5f3a2b",
   "metadata": {},
   "outputs": [],
   "source": [
    "import re"
   ]
  },
  {
   "cell_type": "code",
   "execution_count": 4,
   "id": "10d42dbd",
   "metadata": {},
   "outputs": [],
   "source": [
    "paragraph = \"\"\"I have three visions for India. In 3000 years of our history people from all over the world have come and invaded us, captured our lands, conquered our minds. From Alexander onwards the Greeks, the Turks, the Moguls, the Portuguese, the British, the French, the Dutch, all of them came and looted us, took over what was ours. Yet we have not done this to any other nation. We have not conquered anyone. We have not grabbed their land, their culture and their history and tried to enforce our way of life on them. Why? Because we respect the freedom of others. That is why my FIRST VISION is that of FREEDOM. I believe that India got its first vision of this in 1857, when we started the war of Independence. It is this freedom that we must protect and nurture and build on. If we are not free, no one will respect us. We have 10 percent growth rate in most areas. Our poverty levels are falling. Our achievements are being globally recognised today. Yet we lack the self-confidence to see ourselves as a developed nation, self-reliant and self-assured. Isn’t this incorrect? MY SECOND VISION for India is DEVELOPMENT. For fifty years we have been a developing nation. It is time we see ourselves as a developed nation. We are among top five nations in the world in terms of GDP. I have a THIRD VISION. India must stand up to the world. Because I believe that unless India stands up to the world, no one will respect us. Only strength respects strength. We must be strong not only as a military power but also as an economic power. Both must go hand-in-hand. My good fortune was to have worked with three great minds. Dr.Vikram Sarabhai, of the Dept. of Space, Professor Satish Dhawan, who succeeded him and Dr. Brahm Prakash, father of nuclear material. I was lucky to have worked with all three of them closely and consider this the great opportunity of my life. I was in Hyderabad giving this lecture, when a 14 year-old girl asked me for my autograph. I asked her what her goal in life is. She replied: I want to live in a developed India. For her, you and I will have to build this developed India. You must proclaim India is not an underdeveloped nation; it is a highly developed nation. You say that our government is inefficient. You say that our laws are too old. You say that the municipality does not pick up the garbage. You say that the phones don’t work, the railways are a joke, the airline is the worst in the world, and mails never reach their destination. You say that our country has been fed to the dogs and is the absolute pits. You say, say and say. What do you do about it? Dear Indians, I am echoing J.F.Kennedy’s words to his fellow Americans to relate to Indians ……. ASK WHAT WE CAN DO FOR INDIA AND DO WHAT HAS TO BE DONE TO MAKE INDIA WHAT AMERICA AND OTHER WESTERN COUNTRIES ARE TODAY.\"\"\""
   ]
  },
  {
   "cell_type": "markdown",
   "id": "1daf87d2",
   "metadata": {},
   "source": [
    "Preprocessing the data\n",
    "\n",
    "1. Removing special characters\n",
    "2. Making the sentences lowercase."
   ]
  },
  {
   "cell_type": "code",
   "execution_count": 5,
   "id": "32b46a3e",
   "metadata": {},
   "outputs": [],
   "source": [
    "t = re.sub(r'\\[[0-9]*\\]', ' ', paragraph)"
   ]
  },
  {
   "cell_type": "code",
   "execution_count": 6,
   "id": "f7f93fcb",
   "metadata": {},
   "outputs": [],
   "source": [
    "t = re.sub(r'\\s+', ' ', t)"
   ]
  },
  {
   "cell_type": "code",
   "execution_count": 7,
   "id": "8740b234",
   "metadata": {},
   "outputs": [],
   "source": [
    "t = t.lower()"
   ]
  },
  {
   "cell_type": "code",
   "execution_count": 8,
   "id": "e26b6a90",
   "metadata": {},
   "outputs": [],
   "source": [
    "t = re.sub(r'\\d', ' ', t)"
   ]
  },
  {
   "cell_type": "code",
   "execution_count": 9,
   "id": "1ddc0bdf",
   "metadata": {},
   "outputs": [],
   "source": [
    "t = re.sub(r'\\s+', ' ', t)"
   ]
  },
  {
   "cell_type": "markdown",
   "id": "9350b534",
   "metadata": {},
   "source": [
    "Preparing the dataset.\n",
    "\n",
    "We will be tokenising the text and converting them to sentences."
   ]
  },
  {
   "cell_type": "code",
   "execution_count": 10,
   "id": "5976a3a1",
   "metadata": {},
   "outputs": [],
   "source": [
    "sentences = nltk.sent_tokenize(t)"
   ]
  },
  {
   "cell_type": "code",
   "execution_count": 11,
   "id": "03bdf0fc",
   "metadata": {},
   "outputs": [],
   "source": [
    "sentences = [nltk.word_tokenize(sentence) for sentence in sentences]"
   ]
  },
  {
   "cell_type": "markdown",
   "id": "7e29b0fc",
   "metadata": {},
   "source": [
    "Running a for loop to run through all the words in each sentence and remove the stop words."
   ]
  },
  {
   "cell_type": "code",
   "execution_count": 12,
   "id": "5f9ac5e6",
   "metadata": {},
   "outputs": [],
   "source": [
    "for i in range(len(sentences)):\n",
    "    sentences[i] = [word for word in sentences[i] if word not in stopwords.words('english')]"
   ]
  },
  {
   "cell_type": "markdown",
   "id": "316a7243",
   "metadata": {},
   "source": [
    "Training the Word2Vec Model\n",
    "\n",
    "The second parameter min_count = 1 means that, if the word count is 1 then skip that word."
   ]
  },
  {
   "cell_type": "code",
   "execution_count": 13,
   "id": "ab019ec0",
   "metadata": {},
   "outputs": [],
   "source": [
    "model = Word2Vec(sentences, min_count=1)"
   ]
  },
  {
   "cell_type": "markdown",
   "id": "da6b0b9e",
   "metadata": {},
   "source": [
    "Finding word vectors"
   ]
  },
  {
   "cell_type": "code",
   "execution_count": 15,
   "id": "cd948847",
   "metadata": {},
   "outputs": [],
   "source": [
    "words = model.wv['freedom']"
   ]
  },
  {
   "cell_type": "markdown",
   "id": "1d17809b",
   "metadata": {},
   "source": [
    "Most similar words"
   ]
  },
  {
   "cell_type": "code",
   "execution_count": 16,
   "id": "f3149192",
   "metadata": {},
   "outputs": [
    {
     "data": {
      "text/plain": [
       "[('ask', 0.21243683993816376),\n",
       " ('government', 0.20742806792259216),\n",
       " ('nations', 0.20709876716136932),\n",
       " ('done', 0.1976061314344406),\n",
       " ('self-assured', 0.1913474053144455),\n",
       " ('father', 0.18619988858699799),\n",
       " ('hand-in-hand', 0.1849677562713623),\n",
       " ('nurture', 0.18459604680538177),\n",
       " ('reach', 0.1739221066236496),\n",
       " ('land', 0.17331543564796448)]"
      ]
     },
     "execution_count": 16,
     "metadata": {},
     "output_type": "execute_result"
    }
   ],
   "source": [
    "similar = model.wv.most_similar('freedom')\n",
    "similar"
   ]
  }
 ],
 "metadata": {
  "kernelspec": {
   "display_name": "Python 3",
   "language": "python",
   "name": "python3"
  },
  "language_info": {
   "codemirror_mode": {
    "name": "ipython",
    "version": 3
   },
   "file_extension": ".py",
   "mimetype": "text/x-python",
   "name": "python",
   "nbconvert_exporter": "python",
   "pygments_lexer": "ipython3",
   "version": "3.9.5"
  }
 },
 "nbformat": 4,
 "nbformat_minor": 5
}
